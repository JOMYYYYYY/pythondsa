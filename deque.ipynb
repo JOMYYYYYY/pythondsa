{
 "cells": [
  {
   "cell_type": "markdown",
   "id": "df3548d1",
   "metadata": {},
   "source": [
    "# Initiate the Deque class"
   ]
  },
  {
   "cell_type": "code",
   "execution_count": 2,
   "id": "05d4e889",
   "metadata": {},
   "outputs": [],
   "source": [
    "class Deque:\n",
    "    def __init__(self):\n",
    "        self.items = []\n",
    "\n",
    "    def isEmpty(self) -> bool:\n",
    "        return self.items == []\n",
    "    \n",
    "    def addRear(self, item) -> None:\n",
    "        self.items.append(item)\n",
    "    \n",
    "    def addFront(self, item) -> None:\n",
    "        self.items.insert(0, item)\n",
    "    \n",
    "    def size(self) -> int:\n",
    "        return len(self.items)\n",
    "    \n",
    "    def removeRear(self):\n",
    "        return self.items.pop()\n",
    "    \n",
    "    def removeFront(self):\n",
    "        return self.items.pop(0)\n",
    "    \n",
    "    def display(self) -> None:\n",
    "        print(self.items)"
   ]
  },
  {
   "cell_type": "code",
   "execution_count": 13,
   "id": "daa261c3",
   "metadata": {},
   "outputs": [
    {
     "name": "stdout",
     "output_type": "stream",
     "text": [
      "[]\n",
      "['apple']\n",
      "['pear', 'apple']\n",
      "['pear', 'apple', 'cat']\n",
      "3\n",
      "['apple', 'cat']\n",
      "['apple']\n"
     ]
    },
    {
     "data": {
      "text/plain": [
       "False"
      ]
     },
     "execution_count": 13,
     "metadata": {},
     "output_type": "execute_result"
    }
   ],
   "source": [
    "# test the Deque class\n",
    "my_deque = Deque()\n",
    "my_deque.display()\n",
    "\n",
    "# addFront\n",
    "my_deque.addFront(\"apple\")\n",
    "my_deque.display()\n",
    "\n",
    "# addFront\n",
    "my_deque.addFront('pear')\n",
    "my_deque.display()\n",
    "\n",
    "# addRear\n",
    "my_deque.addRear(\"cat\")\n",
    "my_deque.display()\n",
    "\n",
    "# size\n",
    "print(my_deque.size())\n",
    "\n",
    "# removeFront\n",
    "my_deque.removeFront()\n",
    "my_deque.display()\n",
    "\n",
    "# removeRear\n",
    "my_deque.removeRear()\n",
    "my_deque.display()\n",
    "\n",
    "# isEmpty\n",
    "my_deque.isEmpty()"
   ]
  },
  {
   "cell_type": "markdown",
   "id": "27f6e71f",
   "metadata": {},
   "source": [
    "#  Palindrome word check"
   ]
  },
  {
   "cell_type": "code",
   "execution_count": 14,
   "id": "6fbd6038",
   "metadata": {},
   "outputs": [],
   "source": [
    "def check_palindrome(word: str) -> bool:\n",
    "    deque = Deque()\n",
    "    for char in word:\n",
    "        deque.addFront(char)\n",
    "    \n",
    "    while deque.size() > 1:\n",
    "        front_char = deque.removeFront()\n",
    "        rear_char = deque.removeRear()\n",
    "        if front_char != rear_char:\n",
    "            return False\n",
    "    \n",
    "    return True"
   ]
  },
  {
   "cell_type": "code",
   "execution_count": 18,
   "id": "f5aca417",
   "metadata": {},
   "outputs": [
    {
     "name": "stdout",
     "output_type": "stream",
     "text": [
      "True\n",
      "True\n",
      "False\n",
      "True\n",
      "True\n"
     ]
    }
   ],
   "source": [
    "# test the check_palindrome()\n",
    "print(check_palindrome(\"madam\"))\n",
    "print(check_palindrome('o'))\n",
    "print(check_palindrome('oaoa'))\n",
    "print(check_palindrome('oaoao'))\n",
    "print(check_palindrome('ll'))"
   ]
  },
  {
   "cell_type": "code",
   "execution_count": null,
   "id": "939d0d38",
   "metadata": {},
   "outputs": [],
   "source": []
  }
 ],
 "metadata": {
  "kernelspec": {
   "display_name": "Python 3",
   "language": "python",
   "name": "python3"
  },
  "language_info": {
   "codemirror_mode": {
    "name": "ipython",
    "version": 3
   },
   "file_extension": ".py",
   "mimetype": "text/x-python",
   "name": "python",
   "nbconvert_exporter": "python",
   "pygments_lexer": "ipython3",
   "version": "3.9.6"
  }
 },
 "nbformat": 4,
 "nbformat_minor": 5
}
