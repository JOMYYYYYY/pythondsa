{
 "cells": [
  {
   "cell_type": "markdown",
   "id": "5f1e396d",
   "metadata": {},
   "source": [
    "# 无序列表的链表实现"
   ]
  },
  {
   "cell_type": "markdown",
   "id": "39a6343c",
   "metadata": {
    "vscode": {
     "languageId": "plaintext"
    }
   },
   "source": [
    "List()：创建一个空列表\n",
    "\n",
    "add(item)：添加一个数据项到列表中，假设item原先不存在于列表中\n",
    "\n",
    "remove(item)：从列表中移除item，列表被修改，item原先应存在于表中\n",
    "\n",
    "search(item)：在列表中查找item，返回布尔类型值\n",
    "\n",
    "isEmpty()：返回列表是否为空\n",
    "\n",
    "size()：返回列表包含了多少数据项\n",
    "\n",
    "append(item)：添加一个数据项到表末尾，假设item原先不存在于列表中\n",
    "\n",
    "index(item)：返回数据项在表中的位置\n",
    "\n",
    "insert(pos, item)：将数据项插入到位置pos，假设item原先不存在与列表中，同时原列表具有足够多个数据项，能让item占据位置pos\n",
    "\n",
    "pop()：从列表末尾移除数据项，假设原列表至少有1个数据项\n",
    "\n",
    "pop(pos)：移除位置为pos的数据项，假设原列表存在位置pos"
   ]
  },
  {
   "cell_type": "code",
   "execution_count": 3,
   "id": "6758698a",
   "metadata": {},
   "outputs": [],
   "source": [
    "# the most foundmental element of unordered list is Node, create the Node class first\n",
    "class Node:\n",
    "    def __init__(self, initiate_data):\n",
    "        self.data = initiate_data\n",
    "        self.next = None\n",
    "    \n",
    "    def get_data(self):\n",
    "        return self.data\n",
    "    \n",
    "    def set_data(self, new_data) -> None:\n",
    "        self.data = new_data\n",
    "    \n",
    "    def get_next(self):\n",
    "        return self.next\n",
    "    \n",
    "    def set_next(self, new_next) -> None:\n",
    "        self.next = new_next"
   ]
  },
  {
   "cell_type": "code",
   "execution_count": null,
   "id": "c199116b",
   "metadata": {},
   "outputs": [],
   "source": [
    "# create the Unorder_list class\n",
    "class Unordered_list:\n",
    "    def __init__(self):\n",
    "        self.head = None #设立一个属性head，保存对第一个节点的引用,空表的head为None\n",
    "    \n",
    "    # deploy the add method 因为无序列表增加一个node所在的位置是无所谓的 最方便的地方是放在入口 初始化节点 然后指向前表头 然后更改初始化节点为新表头\n",
    "    def add(self, item) -> None:\n",
    "        temp_node = Node(item) # initiate a temporary node\n",
    "        temp_node.set_next(self.head) # the temporary node point to the previous head node of the unordered list\n",
    "        self.head = temp_node # make the temporary node the new head\n",
    "\n",
    "    # deploy the size method \n",
    "    def size(self) -> int:\n",
    "        count = 0\n",
    "        current_node = self.head\n",
    "\n",
    "        while current_node != None:\n",
    "            count += 1\n",
    "            current_node = current_node.get_next()\n",
    "\n",
    "        return count\n",
    "\n",
    "    # deploy the search method to check if the item in any node in the unordered list\n",
    "    def search(self, item) -> bool:\n",
    "        current_node = self.head\n",
    "\n",
    "        while current_node != None:\n",
    "            if current_node.get_data() == item:\n",
    "                return True\n",
    "            current_node = current_node.get_next()\n",
    "\n",
    "        return False\n",
    "    \n",
    "    # deploy the remove method to remove the item that exists in the unordered list\n",
    "    def remove(self, item) -> None:\n",
    "        privious_node = None\n",
    "        current_node = self.head\n",
    "        while current_node != None:\n",
    "            if current_node.get_data() == item:\n",
    "                privious_node.set_next(current_node.get_next())\n",
    "                break\n",
    "            else:\n",
    "                privious_node = current_node\n",
    "                current_node = current_node.get_next()\n",
    "\n",
    "\n"
   ]
  }
 ],
 "metadata": {
  "kernelspec": {
   "display_name": "Python 3",
   "language": "python",
   "name": "python3"
  },
  "language_info": {
   "codemirror_mode": {
    "name": "ipython",
    "version": 3
   },
   "file_extension": ".py",
   "mimetype": "text/x-python",
   "name": "python",
   "nbconvert_exporter": "python",
   "pygments_lexer": "ipython3",
   "version": "3.9.6"
  }
 },
 "nbformat": 4,
 "nbformat_minor": 5
}
