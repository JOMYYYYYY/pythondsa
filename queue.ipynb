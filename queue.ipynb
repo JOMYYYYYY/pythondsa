{
 "cells": [
  {
   "cell_type": "markdown",
   "id": "0d6ad269",
   "metadata": {},
   "source": [
    "# Initialize the Queue class"
   ]
  },
  {
   "cell_type": "code",
   "execution_count": 12,
   "id": "765bc621",
   "metadata": {},
   "outputs": [],
   "source": [
    "class Queue:\n",
    "    def __init__(self):\n",
    "        self.items = []\n",
    "    \n",
    "    def isEmpty(self) -> bool:\n",
    "        return self.items == []\n",
    "    \n",
    "    def enqueue(self, item) -> None:\n",
    "        self.items.insert(0, item)\n",
    "    \n",
    "    def dequeue(self) -> None:\n",
    "        return self.items.pop()\n",
    "    \n",
    "    def size(self) -> int:\n",
    "        return len(self.items)\n",
    "    \n",
    "    def display(self) -> None:\n",
    "        print(self.items)"
   ]
  },
  {
   "cell_type": "code",
   "execution_count": 13,
   "id": "ff6152da",
   "metadata": {},
   "outputs": [
    {
     "name": "stdout",
     "output_type": "stream",
     "text": [
      "True\n",
      "['dog']\n",
      "[8, 'dog']\n",
      "2\n",
      "[8]\n"
     ]
    }
   ],
   "source": [
    "# test the Queue class\n",
    "my_queue = Queue()\n",
    "\n",
    "# check if my_queue is empty\n",
    "print(my_queue.isEmpty())\n",
    "\n",
    "# enqueue my_queue\n",
    "my_queue.enqueue(\"dog\")\n",
    "my_queue.display()\n",
    "\n",
    "# enqueue my_queue\n",
    "my_queue.enqueue(8)\n",
    "my_queue.display()\n",
    "\n",
    "# test the size method\n",
    "print(my_queue.size())\n",
    "\n",
    "# dequeue my_queue\n",
    "my_queue.dequeue()\n",
    "my_queue.display()"
   ]
  },
  {
   "cell_type": "markdown",
   "id": "8ff8e92c",
   "metadata": {},
   "source": [
    "# Josephus problem （Hot Potato Problem）"
   ]
  },
  {
   "cell_type": "code",
   "execution_count": 27,
   "id": "31e25796",
   "metadata": {},
   "outputs": [],
   "source": [
    "def hot_potato(name_list: list[str], passing_times: int) -> str:\n",
    "    ''' 用队列来实现热土豆问题的算法'''\n",
    "    temp_queue = Queue()\n",
    "\n",
    "    # put the names in the name_list into the temp_queue\n",
    "    for name in name_list:\n",
    "        temp_queue.enqueue(name)\n",
    "    \n",
    "    # keeping passing the potato for each round (passing_times), untill only one person left in the queue\n",
    "    while temp_queue.size() > 1:\n",
    "        for _ in range(passing_times):\n",
    "            temp_queue.enqueue(temp_queue.dequeue())\n",
    "        temp_queue.dequeue()\n",
    "    \n",
    "    return temp_queue.dequeue()\n"
   ]
  },
  {
   "cell_type": "code",
   "execution_count": 30,
   "id": "343a14c8",
   "metadata": {},
   "outputs": [
    {
     "name": "stdout",
     "output_type": "stream",
     "text": [
      "All test cases passed!\n"
     ]
    }
   ],
   "source": [
    "# Single person should always win\n",
    "assert hot_potato([\"Alice\"], 5) == \"Alice\"\n",
    "\n",
    "# Zero passes: eliminates front each round, so survivor is the last remaining\n",
    "assert hot_potato([\"A\", \"B\", \"C\"], 0) == \"C\"\n",
    "assert hot_potato([\"A\", \"B\", \"C\", \"D\"], 0) == \"D\"\n",
    "\n",
    "# One pass: pass once then eliminate—classic Josephus k=2 behavior\n",
    "assert hot_potato([\"A\", \"B\", \"C\", \"D\", \"E\"], 1) == \"C\"\n",
    "assert hot_potato([\"A\", \"B\", \"C\", \"D\", \"E\", \"F\"], 1) == \"E\"\n",
    "\n",
    "# Two people, odd and even passes\n",
    "assert hot_potato([\"Tom\", \"Jerry\"], 1) == \"Tom\"\n",
    "assert hot_potato([\"Tom\", \"Jerry\"], 2) == \"Jerry\"\n",
    "\n",
    "# Typical multi-pass cases\n",
    "assert hot_potato([\"A\", \"B\", \"C\", \"D\", \"E\"], 3) == \"A\"\n",
    "assert hot_potato([\"A\", \"B\", \"C\", \"D\", \"E\", \"F\"], 7) == \"C\"\n",
    "\n",
    "# Passes greater than list length (wrap-around behavior)\n",
    "assert hot_potato([\"P\", \"Q\", \"R\", \"S\"], 5) == \"R\"\n",
    "\n",
    "\n",
    "print(\"All test cases passed!\")"
   ]
  }
 ],
 "metadata": {
  "kernelspec": {
   "display_name": "Python 3",
   "language": "python",
   "name": "python3"
  },
  "language_info": {
   "codemirror_mode": {
    "name": "ipython",
    "version": 3
   },
   "file_extension": ".py",
   "mimetype": "text/x-python",
   "name": "python",
   "nbconvert_exporter": "python",
   "pygments_lexer": "ipython3",
   "version": "3.9.6"
  }
 },
 "nbformat": 4,
 "nbformat_minor": 5
}
