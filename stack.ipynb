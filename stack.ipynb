{
 "cells": [
  {
   "cell_type": "markdown",
   "id": "f993a342",
   "metadata": {},
   "source": [
    "# Initiate the stack class "
   ]
  },
  {
   "cell_type": "code",
   "execution_count": 16,
   "id": "c6f68dee",
   "metadata": {},
   "outputs": [],
   "source": [
    "class Stack:\n",
    "    def __init__(self):\n",
    "        self.items = []\n",
    "    \n",
    "    def isEmpty(self):\n",
    "        return self.items == []\n",
    "    \n",
    "    def push(self, item):\n",
    "        self.items.append(item)\n",
    "    \n",
    "    def pop(self):\n",
    "        return self.items.pop()\n",
    "    \n",
    "    def peek(self):\n",
    "        return self.items[-1]\n",
    "\n",
    "    def size(self):\n",
    "        return len(self.items)\n",
    "    \n",
    "    def display(self):\n",
    "        print(self.items)"
   ]
  },
  {
   "cell_type": "markdown",
   "id": "01c1727f",
   "metadata": {},
   "source": [
    "# Test the stack class"
   ]
  },
  {
   "cell_type": "code",
   "execution_count": 17,
   "id": "87078327",
   "metadata": {},
   "outputs": [
    {
     "name": "stdout",
     "output_type": "stream",
     "text": [
      "True\n",
      "['apple']\n",
      "['apple', 56]\n",
      "56\n",
      "False\n",
      "['apple']\n",
      "1\n"
     ]
    }
   ],
   "source": [
    "my_stack = Stack()\n",
    "\n",
    "# check if my_stack is empty or not\n",
    "print(my_stack.isEmpty())\n",
    "\n",
    "# add a item into my_stack\n",
    "my_stack.push(\"apple\")\n",
    "my_stack.display()\n",
    "\n",
    "# add a item into my_stack\n",
    "my_stack.push(56)\n",
    "my_stack.display()\n",
    "\n",
    "# peek the top item in my stack\n",
    "print(my_stack.peek())\n",
    "\n",
    "# check if my_stack is empty or not\n",
    "print(my_stack.isEmpty())\n",
    "\n",
    "# pop my stack\n",
    "my_stack.pop()\n",
    "my_stack.display()\n",
    "\n",
    "# check the size of my stack\n",
    "print(my_stack.size())"
   ]
  },
  {
   "cell_type": "markdown",
   "id": "a58e1aff",
   "metadata": {},
   "source": [
    "# 使用栈进行进制转换操作，将10进制数转换成2进制数\n"
   ]
  },
  {
   "cell_type": "code",
   "execution_count": 15,
   "id": "dd79e9bf",
   "metadata": {},
   "outputs": [
    {
     "name": "stdout",
     "output_type": "stream",
     "text": [
      "0b11101001\n"
     ]
    }
   ],
   "source": [
    "# 如：(233)10的对应二进制数为(11101001)2\n",
    "decimal_number = 233\n",
    "print(bin(decimal_number))"
   ]
  },
  {
   "cell_type": "code",
   "execution_count": 20,
   "id": "e7ae8f28",
   "metadata": {},
   "outputs": [],
   "source": [
    "def convert_decimal_number_into_binary(decimal_number: int) -> str:\n",
    "    temp_stack = Stack()\n",
    "    if decimal_number == 0:\n",
    "        return \"0\"\n",
    "    \n",
    "    while decimal_number != 0:\n",
    "        remainder = decimal_number % 2\n",
    "        temp_stack.push(remainder)\n",
    "        decimal_number //= 2\n",
    "\n",
    "    ans = \"\"\n",
    "\n",
    "    while temp_stack.isEmpty() != True:\n",
    "        ans += str(temp_stack.pop())\n",
    "    \n",
    "    return ans    "
   ]
  },
  {
   "cell_type": "code",
   "execution_count": 32,
   "id": "a14c86e2",
   "metadata": {},
   "outputs": [],
   "source": [
    "# test convert_decimal_number_into_binary()\n",
    "for number in range(10000):\n",
    "    expected = bin(number)[2:]\n",
    "    result = convert_decimal_number_into_binary(number)\n",
    "    assert result == expected, f\"Failed for {number}: got {result}, expected {expected}\"\n"
   ]
  },
  {
   "cell_type": "markdown",
   "id": "7d26b49c",
   "metadata": {},
   "source": [
    "# 十进制转换为十六以下任意进制"
   ]
  },
  {
   "cell_type": "code",
   "execution_count": 33,
   "id": "7fb308af",
   "metadata": {},
   "outputs": [],
   "source": [
    "def convert_decimal_into_n_base_number(decimal_number: int, base: int) -> str:\n",
    "    digits = \"0123456789ABCDEF\"\n",
    "    ans = \"\"\n",
    "    temp_stack = Stack()\n",
    "\n",
    "    if decimal_number == 0:\n",
    "        return \"0\"\n",
    "    \n",
    "    while decimal_number != 0:\n",
    "        remainder = decimal_number % base\n",
    "        temp_stack.push(remainder)\n",
    "        decimal_number //= base\n",
    "    \n",
    "    while temp_stack.isEmpty() != True:\n",
    "        ans += digits[temp_stack.pop()]\n",
    "    \n",
    "    return ans"
   ]
  },
  {
   "cell_type": "code",
   "execution_count": null,
   "id": "c42fecb2",
   "metadata": {},
   "outputs": [],
   "source": [
    "# test convert_decimal_into_n_base_number()\n",
    "import numpy\n",
    "import random\n",
    "\n",
    "def test_convert_decimal_into_n_base_number(test_times: int):\n",
    "    for _ in range(test_times):\n",
    "        test_decimal_number = random.randint(0, 1000_000_000)\n",
    "        test_base = random.randint(2, 16)\n",
    "        result = convert_decimal_into_n_base_number(test_decimal_number, test_base)\n",
    "        assert result == numpy.base_repr(number=test_decimal_number, base=test_base)\n",
    "        print(f'Decimal number is {test_decimal_number}, test base is {test_base}. The result is {result}. Test is successful for this pair.')\n",
    "        \n",
    "test_convert_decimal_into_n_base_number(test_times=10086)"
   ]
  },
  {
   "cell_type": "markdown",
   "id": "4054e042",
   "metadata": {},
   "source": [
    "# 中缀表达式转后缀表达式"
   ]
  },
  {
   "cell_type": "code",
   "execution_count": null,
   "id": "a0eef9e1",
   "metadata": {},
   "outputs": [],
   "source": []
  },
  {
   "cell_type": "markdown",
   "id": "b459a34b",
   "metadata": {},
   "source": [
    "# 逆波兰表达式求值"
   ]
  },
  {
   "cell_type": "code",
   "execution_count": null,
   "id": "8ac37379",
   "metadata": {},
   "outputs": [],
   "source": []
  },
  {
   "cell_type": "markdown",
   "id": "2dc38aea",
   "metadata": {},
   "source": [
    "# [基本计算器](https://leetcode.cn/problems/basic-calculator/description/)\n",
    "给你一个字符串表达式 s ，请你实现一个基本计算器来计算并返回它的值。\n",
    "\n",
    "注意:不允许使用任何将字符串作为数学表达式计算的内置函数，比如 eval() 。\n",
    "\n",
    "示例 1：\n",
    "\n",
    "输入：s = \"1 + 1\"\n",
    "输出：2\n",
    "示例 2：\n",
    "\n",
    "输入：s = \" 2-1 + 2 \"\n",
    "输出：3\n",
    "示例 3：\n",
    "\n",
    "输入：s = \"(1+(4+5+2)-3)+(6+8)\"\n",
    "输出：23\n",
    " \n",
    "\n",
    "提示：\n",
    "\n",
    "1 <= s.length <= 3 * 105\n",
    "s 由数字、'+'、'-'、'('、')'、和 ' ' 组成\n",
    "s 表示一个有效的表达式\n",
    "'+' 不能用作一元运算(例如， \"+1\" 和 \"+(2 + 3)\" 无效)\n",
    "'-' 可以用作一元运算(即 \"-1\" 和 \"-(2 + 3)\" 是有效的)\n",
    "输入中不存在两个连续的操作符\n",
    "每个数字和运行的计算将适合于一个有符号的 32位 整数"
   ]
  }
 ],
 "metadata": {
  "kernelspec": {
   "display_name": "Python 3",
   "language": "python",
   "name": "python3"
  },
  "language_info": {
   "codemirror_mode": {
    "name": "ipython",
    "version": 3
   },
   "file_extension": ".py",
   "mimetype": "text/x-python",
   "name": "python",
   "nbconvert_exporter": "python",
   "pygments_lexer": "ipython3",
   "version": "3.9.21"
  }
 },
 "nbformat": 4,
 "nbformat_minor": 5
}
